{
  "nbformat": 4,
  "nbformat_minor": 0,
  "metadata": {
    "colab": {
      "provenance": [],
      "gpuType": "T4",
      "authorship_tag": "ABX9TyOlNDWrG4hbHYsdJC3PbiN9",
      "include_colab_link": true
    },
    "kernelspec": {
      "name": "python3",
      "display_name": "Python 3"
    },
    "language_info": {
      "name": "python"
    },
    "accelerator": "GPU"
  },
  "cells": [
    {
      "cell_type": "markdown",
      "metadata": {
        "id": "view-in-github",
        "colab_type": "text"
      },
      "source": [
        "<a href=\"https://colab.research.google.com/github/chris20834/AI-Summer-Camp/blob/main/CNN_ImgaeClassification.ipynb\" target=\"_parent\"><img src=\"https://colab.research.google.com/assets/colab-badge.svg\" alt=\"Open In Colab\"/></a>"
      ]
    },
    {
      "cell_type": "code",
      "execution_count": null,
      "metadata": {
        "id": "7o4H3sCZcFJY"
      },
      "outputs": [],
      "source": [
        "# 載入 TensorFlow 這個超強的 AI 魔法工具箱\n",
        "import tensorflow as tf"
      ]
    },
    {
      "cell_type": "code",
      "source": [
        "(train_images, train_labels), (test_images, test_labels) = tf.keras.datasets.mnist.load_data()"
      ],
      "metadata": {
        "id": "8cnBqBifcpc9"
      },
      "execution_count": null,
      "outputs": []
    },
    {
      "cell_type": "code",
      "source": [
        "print(\"訓練圖片的數量和大小:\", train_images.shape)\n",
        "print(\"訓練圖片的標籤數量:\", train_labels.shape)"
      ],
      "metadata": {
        "id": "tTJy71PEcxt_"
      },
      "execution_count": null,
      "outputs": []
    },
    {
      "cell_type": "code",
      "source": [
        "# 看看第一張圖片的內容 (前幾行像素值)\n",
        "print(\"\\n第一張訓練圖片的前 5 行像素值:\")\n",
        "print(train_images[1][:5]) # 顯示第一張圖的前 5 行像素值 (0-255)"
      ],
      "metadata": {
        "id": "P5E155PKhFAJ"
      },
      "execution_count": null,
      "outputs": []
    },
    {
      "cell_type": "code",
      "source": [
        "print(\"\\n第一張訓練圖片的標籤:\", train_labels[0])"
      ],
      "metadata": {
        "id": "NrziT7JvhH0X"
      },
      "execution_count": null,
      "outputs": []
    },
    {
      "cell_type": "code",
      "source": [
        "import matplotlib.pyplot as plt\n",
        "\n",
        "# 顯示訓練資料集中的第一張圖片\n",
        "plt.imshow(train_images[0], cmap=plt.cm.binary)\n",
        "plt.title(f\"Label: {train_labels[0]}\")\n",
        "plt.show()"
      ],
      "metadata": {
        "id": "gUzY_8umhibz"
      },
      "execution_count": null,
      "outputs": []
    },
    {
      "cell_type": "code",
      "source": [
        "# 將圖片的像素值從 0-255 縮放到 0-1 之間\n",
        "# 這就像把圖片的亮度統一調整到一個小範圍\n",
        "train_images = train_images / 255.0\n",
        "test_images = test_images / 255.0\n",
        "\n",
        "# 再看看第一張圖片的內容 (經過標準化後)\n",
        "print(\"標準化後第一張訓練圖片的前 5 行像素值:\")\n",
        "print(train_images[1][:5]) # 現在值會介於 0.0 到 1.0 之間"
      ],
      "metadata": {
        "id": "TLVpd7e5ibc3"
      },
      "execution_count": null,
      "outputs": []
    },
    {
      "cell_type": "code",
      "source": [
        "print(\"訓練圖片的資料類型:\", train_images.dtype)\n",
        "print(\"測試圖片的資料類型:\", test_images.dtype)"
      ],
      "metadata": {
        "id": "HpDo2Un3mNUS"
      },
      "execution_count": null,
      "outputs": []
    },
    {
      "cell_type": "code",
      "source": [
        "model = tf.keras.models.Sequential([\n",
        "    # 第一塊積木：卷積層 (Conv2D)\n",
        "    tf.keras.layers.Conv2D(32, (3, 3), activation='relu', input_shape=(28, 28, 1)),\n",
        "    # 第二塊積木：池化層 (MaxPooling2D)\n",
        "    tf.keras.layers.MaxPooling2D((2, 2)),\n",
        "    # 第三塊積木：攤平層 (Flatten)\n",
        "    tf.keras.layers.Flatten(),\n",
        "    # 第四塊積木：全連接層 (Dense) - 中間層\n",
        "    tf.keras.layers.Dense(128, activation='relu'), # 128 個「神經元」\n",
        "    # 第五塊積木：全連接層 (Dense) - 輸出層\n",
        "    tf.keras.layers.Dense(10, activation='softmax') # 10 個「神經元」對應 0-9 數字\n",
        "])"
      ],
      "metadata": {
        "id": "MNjwbabgm8BK"
      },
      "execution_count": null,
      "outputs": []
    },
    {
      "cell_type": "code",
      "source": [
        "model.summary()"
      ],
      "metadata": {
        "id": "AW93Vc9sn4UB"
      },
      "execution_count": null,
      "outputs": []
    },
    {
      "cell_type": "code",
      "source": [
        "# 編譯你的 AI 大腦模型\n",
        "model.compile(optimizer='adam', # 設定學習方法：Adam 優化器\n",
        "      loss='sparse_categorical_crossentropy', # 設定計算錯誤的方式：損失函數\n",
        "      metrics=['accuracy']) # 設定評估標準：準確率"
      ],
      "metadata": {
        "id": "xWSISHZhoGyq"
      },
      "execution_count": null,
      "outputs": []
    },
    {
      "cell_type": "code",
      "source": [
        "history = model.fit(train_images, train_labels, epochs=3)"
      ],
      "metadata": {
        "id": "CCYNTdTdu1zL"
      },
      "execution_count": null,
      "outputs": []
    },
    {
      "cell_type": "code",
      "source": [
        "# 考考 AI 學得怎麼樣？使用測試資料集來評估\n",
        "test_loss, test_acc = model.evaluate(test_images, test_labels, verbose=2)\n",
        "\n",
        "print(\"\\n測試資料集上的損失值 (Test Loss):\", test_loss)\n",
        "print(\"測試資料集上的準確率 (Test Accuracy):\", test_acc)"
      ],
      "metadata": {
        "id": "KGHAHnxGzvW6"
      },
      "execution_count": null,
      "outputs": []
    },
    {
      "cell_type": "code",
      "source": [
        "import matplotlib.pyplot as plt\n",
        "from tensorflow.keras.preprocessing import image\n",
        "import numpy as np\n",
        "\n",
        "# --- 設定你的圖片路徑 ---\n",
        "my_image_path = \"/content/3.jpg\"\n",
        "\n",
        "# 圖片預處理：載入、縮放、轉為灰階、標準化\n",
        "# 1. 載入圖片並調整大小 (MNIST 圖片是 28x28 像素)\n",
        "img = image.load_img(my_image_path, target_size=(28, 28), color_mode=\"grayscale\") # 設定為灰階模式)\n",
        "\n",
        "# 2. 將圖片轉換為 NumPy 陣列\n",
        "img_array = image.img_to_array(img)\n",
        "\n",
        "# 3. 增加一個維度 (批次維度)\n",
        "# 模型預期輸入是 (批次數量, 高度, 寬度, 顏色通道)，即使只有一張圖也要加上批次維度\n",
        "img_array = np.expand_dims(img_array, axis=0)\n",
        "\n",
        "# 4. 標準化像素值 (從 0-255 縮放到 0-1)\n",
        "img_array /= 255.0\n",
        "\n",
        "# 顯示這張你準備用來預測的圖片\n",
        "plt.imshow(img, cmap=plt.cm.binary)\n",
        "plt.title(\"Your Digit Number!\")\n",
        "#plt.axis('off')\n",
        "plt.show()"
      ],
      "metadata": {
        "id": "vhv4-dmf9DLQ"
      },
      "execution_count": null,
      "outputs": []
    },
    {
      "cell_type": "code",
      "source": [
        "# 讓 AI 模型進行預測\n",
        "# model.predict() 會輸出每個類別 (0-9) 的機率\n",
        "predictions = model.predict(img_array)\n",
        "\n",
        "# 找出機率最高的數字 (也就是 AI 認為最可能是哪個數字)\n",
        "predicted_digit = np.argmax(predictions[0]) # np.argmax 會找出陣列中最大值的索引\n",
        "\n",
        "# 取得 AI 對這個預測的信心度 (機率值)\n",
        "confidence = predictions[0][predicted_digit] * 100 # 將機率轉換為百分比\n",
        "\n",
        "# 顯示 AI 的預測結果\n",
        "print(f\"\\nAI 預測這個數字是： {predicted_digit}\")\n",
        "print(f\"AI 對這個預測的信心度為： {confidence:.2f}%\")\n",
        "\n",
        "# 顯示所有數字的機率分佈 (可選)\n",
        "print(\"\\n--- 各數字的預測機率 ---\")\n",
        "for i in range(10):\n",
        "    print(f\"數字 {i}: {predictions[0][i]*100:.2f}%\")"
      ],
      "metadata": {
        "id": "fmUedlJc-MiY"
      },
      "execution_count": null,
      "outputs": []
    },
    {
      "cell_type": "code",
      "source": [],
      "metadata": {
        "id": "0WF7ygYy-oW0"
      },
      "execution_count": null,
      "outputs": []
    }
  ]
}