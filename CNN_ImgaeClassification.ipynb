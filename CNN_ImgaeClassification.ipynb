{
  "nbformat": 4,
  "nbformat_minor": 0,
  "metadata": {
    "colab": {
      "provenance": [],
      "gpuType": "T4",
      "authorship_tag": "ABX9TyP4pqNBLxSYuGwMJm2NkSQ6",
      "include_colab_link": true
    },
    "kernelspec": {
      "name": "python3",
      "display_name": "Python 3"
    },
    "language_info": {
      "name": "python"
    },
    "accelerator": "GPU"
  },
  "cells": [
    {
      "cell_type": "markdown",
      "metadata": {
        "id": "view-in-github",
        "colab_type": "text"
      },
      "source": [
        "<a href=\"https://colab.research.google.com/github/chris20834/AI-Summer-Camp/blob/main/CNN_ImgaeClassification.ipynb\" target=\"_parent\"><img src=\"https://colab.research.google.com/assets/colab-badge.svg\" alt=\"Open In Colab\"/></a>"
      ]
    },
    {
      "cell_type": "code",
      "execution_count": null,
      "metadata": {
        "id": "7o4H3sCZcFJY"
      },
      "outputs": [],
      "source": [
        "# 載入 TensorFlow 這個超強的 AI 魔法工具箱\n",
        "import tensorflow as tf"
      ]
    },
    {
      "cell_type": "code",
      "source": [
        "(train_images, train_labels), (test_images, test_labels) = tf.keras.datasets.mnist.load_data()"
      ],
      "metadata": {
        "id": "8cnBqBifcpc9"
      },
      "execution_count": null,
      "outputs": []
    },
    {
      "cell_type": "code",
      "source": [
        "print(\"訓練圖片的數量和大小:\", train_images.shape)\n",
        "print(\"訓練圖片的標籤數量:\", train_labels.shape)"
      ],
      "metadata": {
        "id": "tTJy71PEcxt_",
        "colab": {
          "base_uri": "https://localhost:8080/"
        },
        "outputId": "b1f90528-8196-4ab2-b5de-cf03c6ad83cf"
      },
      "execution_count": null,
      "outputs": [
        {
          "output_type": "stream",
          "name": "stdout",
          "text": [
            "訓練圖片的數量和大小: (60000, 28, 28)\n",
            "訓練圖片的標籤數量: (60000,)\n"
          ]
        }
      ]
    },
    {
      "cell_type": "code",
      "source": [
        "# 看看第一張圖片的內容 (前幾行像素值)\n",
        "print(\"\\n第一張訓練圖片的前 5 行像素值:\")\n",
        "print(train_images[1][:5]) # 顯示第一張圖的前 5 行像素值 (0-255)"
      ],
      "metadata": {
        "id": "P5E155PKhFAJ",
        "colab": {
          "base_uri": "https://localhost:8080/"
        },
        "outputId": "fc503273-630e-430d-d42e-f755f0fdc5e3"
      },
      "execution_count": null,
      "outputs": [
        {
          "output_type": "stream",
          "name": "stdout",
          "text": [
            "\n",
            "第一張訓練圖片的前 5 行像素值:\n",
            "[[  0   0   0   0   0   0   0   0   0   0   0   0   0   0   0   0   0   0\n",
            "    0   0   0   0   0   0   0   0   0   0]\n",
            " [  0   0   0   0   0   0   0   0   0   0   0   0   0   0   0   0   0   0\n",
            "    0   0   0   0   0   0   0   0   0   0]\n",
            " [  0   0   0   0   0   0   0   0   0   0   0   0   0   0   0   0   0   0\n",
            "    0   0   0   0   0   0   0   0   0   0]\n",
            " [  0   0   0   0   0   0   0   0   0   0   0   0   0   0   0   0   0   0\n",
            "    0   0   0   0   0   0   0   0   0   0]\n",
            " [  0   0   0   0   0   0   0   0   0   0   0   0   0   0   0  51 159 253\n",
            "  159  50   0   0   0   0   0   0   0   0]]\n"
          ]
        }
      ]
    },
    {
      "cell_type": "code",
      "source": [
        "print(\"\\n第一張訓練圖片的標籤:\", train_labels[0])"
      ],
      "metadata": {
        "id": "NrziT7JvhH0X",
        "colab": {
          "base_uri": "https://localhost:8080/"
        },
        "outputId": "4ffb7ef7-1afc-4c5d-f159-41963a575ff8"
      },
      "execution_count": null,
      "outputs": [
        {
          "output_type": "stream",
          "name": "stdout",
          "text": [
            "\n",
            "第一張訓練圖片的標籤: 5\n"
          ]
        }
      ]
    },
    {
      "cell_type": "code",
      "source": [
        "import matplotlib.pyplot as plt\n",
        "\n",
        "# 顯示訓練資料集中的第一張圖片\n",
        "plt.imshow(train_images[1], cmap=plt.cm.binary)\n",
        "plt.title(f\"Label: {train_labels[1]}\")\n",
        "plt.show()"
      ],
      "metadata": {
        "id": "gUzY_8umhibz",
        "colab": {
          "base_uri": "https://localhost:8080/",
          "height": 452
        },
        "outputId": "273ad31c-9e80-4e30-a502-aff2dd1e09e3"
      },
      "execution_count": null,
      "outputs": [
        {
          "output_type": "display_data",
          "data": {
            "text/plain": [
              "<Figure size 640x480 with 1 Axes>"
            ],
            "image/png": "[encoded data removed]"
          },
          "metadata": {}
        }
      ]
    },
    {
      "cell_type": "code",
      "source": [
        "# 將圖片的像素值從 0-255 縮放到 0-1 之間\n",
        "# 這就像把圖片的亮度統一調整到一個小範圍\n",
        "train_images = train_images / 255.0\n",
        "test_images = test_images / 255.0\n",
        "\n",
        "# 再看看第一張圖片的內容 (經過標準化後)\n",
        "print(\"標準化後第一張訓練圖片的前 5 行像素值:\")\n",
        "print(train_images[1][:5]) # 現在值會介於 0.0 到 1.0 之間"
      ],
      "metadata": {
        "id": "TLVpd7e5ibc3",
        "colab": {
          "base_uri": "https://localhost:8080/"
        },
        "outputId": "06dc846a-70ed-4221-dfc0-713194a2fcec"
      },
      "execution_count": null,
      "outputs": [
        {
          "output_type": "stream",
          "name": "stdout",
          "text": [
            "標準化後第一張訓練圖片的前 5 行像素值:\n",
            "[[0.         0.         0.         0.         0.         0.\n",
            "  0.         0.         0.         0.         0.         0.\n",
            "  0.         0.         0.         0.         0.         0.\n",
            "  0.         0.         0.         0.         0.         0.\n",
            "  0.         0.         0.         0.        ]\n",
            " [0.         0.         0.         0.         0.         0.\n",
            "  0.         0.         0.         0.         0.         0.\n",
            "  0.         0.         0.         0.         0.         0.\n",
            "  0.         0.         0.         0.         0.         0.\n",
            "  0.         0.         0.         0.        ]\n",
            " [0.         0.         0.         0.         0.         0.\n",
            "  0.         0.         0.         0.         0.         0.\n",
            "  0.         0.         0.         0.         0.         0.\n",
            "  0.         0.         0.         0.         0.         0.\n",
            "  0.         0.         0.         0.        ]\n",
            " [0.         0.         0.         0.         0.         0.\n",
            "  0.         0.         0.         0.         0.         0.\n",
            "  0.         0.         0.         0.         0.         0.\n",
            "  0.         0.         0.         0.         0.         0.\n",
            "  0.         0.         0.         0.        ]\n",
            " [0.         0.         0.         0.         0.         0.\n",
            "  0.         0.         0.         0.         0.         0.\n",
            "  0.         0.         0.         0.2        0.62352941 0.99215686\n",
            "  0.62352941 0.19607843 0.         0.         0.         0.\n",
            "  0.         0.         0.         0.        ]]\n"
          ]
        }
      ]
    },
    {
      "cell_type": "code",
      "source": [
        "print(\"訓練圖片的資料類型:\", train_images.dtype)\n",
        "print(\"測試圖片的資料類型:\", test_images.dtype)"
      ],
      "metadata": {
        "id": "HpDo2Un3mNUS",
        "colab": {
          "base_uri": "https://localhost:8080/"
        },
        "outputId": "94b7c6e5-c98f-4552-d541-2ec0518e6b34"
      },
      "execution_count": null,
      "outputs": [
        {
          "output_type": "stream",
          "name": "stdout",
          "text": [
            "訓練圖片的資料類型: float64\n",
            "測試圖片的資料類型: float64\n"
          ]
        }
      ]
    },
    {
      "cell_type": "code",
      "source": [
        "model = tf.keras.models.Sequential([\n",
        "    # 第一塊積木：卷積層 (Conv2D)\n",
        "    tf.keras.layers.Conv2D(32, (3, 3), activation='relu', input_shape=(28, 28, 1)),\n",
        "    # 第二塊積木：池化層 (MaxPooling2D)\n",
        "    tf.keras.layers.MaxPooling2D((2, 2)),\n",
        "    # 第三塊積木：攤平層 (Flatten)\n",
        "    tf.keras.layers.Flatten(),\n",
        "    # 第四塊積木：全連接層 (Dense) - 中間層\n",
        "    tf.keras.layers.Dense(128, activation='relu'), # 128 個「神經元」\n",
        "    # 第五塊積木：全連接層 (Dense) - 輸出層\n",
        "    tf.keras.layers.Dense(10, activation='softmax') # 10 個「神經元」對應 0-9 數字\n",
        "])"
      ],
      "metadata": {
        "id": "MNjwbabgm8BK"
      },
      "execution_count": null,
      "outputs": []
    },
    {
      "cell_type": "code",
      "source": [
        "model.summary()"
      ],
      "metadata": {
        "id": "AW93Vc9sn4UB",
        "colab": {
          "base_uri": "https://localhost:8080/",
          "height": 289
        },
        "outputId": "3abca3ae-21cd-4590-92b7-ff3c4b9564ce"
      },
      "execution_count": null,
      "outputs": [
        {
          "output_type": "display_data",
          "data": {
            "text/plain": [
              "\u001b[1mModel: \"sequential_3\"\u001b[0m\n"
            ],
            "text/html": [
              "<pre style=\"white-space:pre;overflow-x:auto;line-height:normal;font-family:Menlo,'DejaVu Sans Mono',consolas,'Courier New',monospace\"><span style=\"font-weight: bold\">Model: \"sequential_3\"</span>\n",
              "</pre>\n"
            ]
          },
          "metadata": {}
        },
        {
          "output_type": "display_data",
          "data": {
            "text/plain": [
              "┏━━━━━━━━━━━━━━━━━━━━━━━━━━━━━━━━━┳━━━━━━━━━━━━━━━━━━━━━━━━┳━━━━━━━━━━━━━━━┓\n",
              "┃\u001b[1m \u001b[0m\u001b[1mLayer (type)                   \u001b[0m\u001b[1m \u001b[0m┃\u001b[1m \u001b[0m\u001b[1mOutput Shape          \u001b[0m\u001b[1m \u001b[0m┃\u001b[1m \u001b[0m\u001b[1m      Param #\u001b[0m\u001b[1m \u001b[0m┃\n",
              "┡━━━━━━━━━━━━━━━━━━━━━━━━━━━━━━━━━╇━━━━━━━━━━━━━━━━━━━━━━━━╇━━━━━━━━━━━━━━━┩\n",
              "│ conv2d_3 (\u001b[38;5;33mConv2D\u001b[0m)               │ (\u001b[38;5;45mNone\u001b[0m, \u001b[38;5;34m26\u001b[0m, \u001b[38;5;34m26\u001b[0m, \u001b[38;5;34m32\u001b[0m)     │           \u001b[38;5;34m320\u001b[0m │\n",
              "├─────────────────────────────────┼────────────────────────┼───────────────┤\n",
              "│ max_pooling2d_3 (\u001b[38;5;33mMaxPooling2D\u001b[0m)  │ (\u001b[38;5;45mNone\u001b[0m, \u001b[38;5;34m13\u001b[0m, \u001b[38;5;34m13\u001b[0m, \u001b[38;5;34m32\u001b[0m)     │             \u001b[38;5;34m0\u001b[0m │\n",
              "├─────────────────────────────────┼────────────────────────┼───────────────┤\n",
              "│ flatten_3 (\u001b[38;5;33mFlatten\u001b[0m)             │ (\u001b[38;5;45mNone\u001b[0m, \u001b[38;5;34m5408\u001b[0m)           │             \u001b[38;5;34m0\u001b[0m │\n",
              "├─────────────────────────────────┼────────────────────────┼───────────────┤\n",
              "│ dense_6 (\u001b[38;5;33mDense\u001b[0m)                 │ (\u001b[38;5;45mNone\u001b[0m, \u001b[38;5;34m128\u001b[0m)            │       \u001b[38;5;34m692,352\u001b[0m │\n",
              "├─────────────────────────────────┼────────────────────────┼───────────────┤\n",
              "│ dense_7 (\u001b[38;5;33mDense\u001b[0m)                 │ (\u001b[38;5;45mNone\u001b[0m, \u001b[38;5;34m10\u001b[0m)             │         \u001b[38;5;34m1,290\u001b[0m │\n",
              "└─────────────────────────────────┴────────────────────────┴───────────────┘\n"
            ],
            "text/html": [
              "<pre style=\"white-space:pre;overflow-x:auto;line-height:normal;font-family:Menlo,'DejaVu Sans Mono',consolas,'Courier New',monospace\">┏━━━━━━━━━━━━━━━━━━━━━━━━━━━━━━━━━┳━━━━━━━━━━━━━━━━━━━━━━━━┳━━━━━━━━━━━━━━━┓\n",
              "┃<span style=\"font-weight: bold\"> Layer (type)                    </span>┃<span style=\"font-weight: bold\"> Output Shape           </span>┃<span style=\"font-weight: bold\">       Param # </span>┃\n",
              "┡━━━━━━━━━━━━━━━━━━━━━━━━━━━━━━━━━╇━━━━━━━━━━━━━━━━━━━━━━━━╇━━━━━━━━━━━━━━━┩\n",
              "│ conv2d_3 (<span style=\"color: #0087ff; text-decoration-color: #0087ff\">Conv2D</span>)               │ (<span style=\"color: #00d7ff; text-decoration-color: #00d7ff\">None</span>, <span style=\"color: #00af00; text-decoration-color: #00af00\">26</span>, <span style=\"color: #00af00; text-decoration-color: #00af00\">26</span>, <span style=\"color: #00af00; text-decoration-color: #00af00\">32</span>)     │           <span style=\"color: #00af00; text-decoration-color: #00af00\">320</span> │\n",
              "├─────────────────────────────────┼────────────────────────┼───────────────┤\n",
              "│ max_pooling2d_3 (<span style=\"color: #0087ff; text-decoration-color: #0087ff\">MaxPooling2D</span>)  │ (<span style=\"color: #00d7ff; text-decoration-color: #00d7ff\">None</span>, <span style=\"color: #00af00; text-decoration-color: #00af00\">13</span>, <span style=\"color: #00af00; text-decoration-color: #00af00\">13</span>, <span style=\"color: #00af00; text-decoration-color: #00af00\">32</span>)     │             <span style=\"color: #00af00; text-decoration-color: #00af00\">0</span> │\n",
              "├─────────────────────────────────┼────────────────────────┼───────────────┤\n",
              "│ flatten_3 (<span style=\"color: #0087ff; text-decoration-color: #0087ff\">Flatten</span>)             │ (<span style=\"color: #00d7ff; text-decoration-color: #00d7ff\">None</span>, <span style=\"color: #00af00; text-decoration-color: #00af00\">5408</span>)           │             <span style=\"color: #00af00; text-decoration-color: #00af00\">0</span> │\n",
              "├─────────────────────────────────┼────────────────────────┼───────────────┤\n",
              "│ dense_6 (<span style=\"color: #0087ff; text-decoration-color: #0087ff\">Dense</span>)                 │ (<span style=\"color: #00d7ff; text-decoration-color: #00d7ff\">None</span>, <span style=\"color: #00af00; text-decoration-color: #00af00\">128</span>)            │       <span style=\"color: #00af00; text-decoration-color: #00af00\">692,352</span> │\n",
              "├─────────────────────────────────┼────────────────────────┼───────────────┤\n",
              "│ dense_7 (<span style=\"color: #0087ff; text-decoration-color: #0087ff\">Dense</span>)                 │ (<span style=\"color: #00d7ff; text-decoration-color: #00d7ff\">None</span>, <span style=\"color: #00af00; text-decoration-color: #00af00\">10</span>)             │         <span style=\"color: #00af00; text-decoration-color: #00af00\">1,290</span> │\n",
              "└─────────────────────────────────┴────────────────────────┴───────────────┘\n",
              "</pre>\n"
            ]
          },
          "metadata": {}
        },
        {
          "output_type": "display_data",
          "data": {
            "text/plain": [
              "\u001b[1m Total params: \u001b[0m\u001b[38;5;34m693,962\u001b[0m (2.65 MB)\n"
            ],
            "text/html": [
              "<pre style=\"white-space:pre;overflow-x:auto;line-height:normal;font-family:Menlo,'DejaVu Sans Mono',consolas,'Courier New',monospace\"><span style=\"font-weight: bold\"> Total params: </span><span style=\"color: #00af00; text-decoration-color: #00af00\">693,962</span> (2.65 MB)\n",
              "</pre>\n"
            ]
          },
          "metadata": {}
        },
        {
          "output_type": "display_data",
          "data": {
            "text/plain": [
              "\u001b[1m Trainable params: \u001b[0m\u001b[38;5;34m693,962\u001b[0m (2.65 MB)\n"
            ],
            "text/html": [
              "<pre style=\"white-space:pre;overflow-x:auto;line-height:normal;font-family:Menlo,'DejaVu Sans Mono',consolas,'Courier New',monospace\"><span style=\"font-weight: bold\"> Trainable params: </span><span style=\"color: #00af00; text-decoration-color: #00af00\">693,962</span> (2.65 MB)\n",
              "</pre>\n"
            ]
          },
          "metadata": {}
        },
        {
          "output_type": "display_data",
          "data": {
            "text/plain": [
              "\u001b[1m Non-trainable params: \u001b[0m\u001b[38;5;34m0\u001b[0m (0.00 B)\n"
            ],
            "text/html": [
              "<pre style=\"white-space:pre;overflow-x:auto;line-height:normal;font-family:Menlo,'DejaVu Sans Mono',consolas,'Courier New',monospace\"><span style=\"font-weight: bold\"> Non-trainable params: </span><span style=\"color: #00af00; text-decoration-color: #00af00\">0</span> (0.00 B)\n",
              "</pre>\n"
            ]
          },
          "metadata": {}
        }
      ]
    },
    {
      "cell_type": "code",
      "source": [
        "# 編譯你的 AI 大腦模型\n",
        "model.compile(optimizer='adam', # 設定學習方法：Adam 優化器\n",
        "      loss='sparse_categorical_crossentropy', # 設定計算錯誤的方式：損失函數\n",
        "      metrics=['accuracy']) # 設定評估標準：準確率"
      ],
      "metadata": {
        "id": "xWSISHZhoGyq"
      },
      "execution_count": null,
      "outputs": []
    },
    {
      "cell_type": "code",
      "source": [
        "history = model.fit(train_images, train_labels, epochs=5)"
      ],
      "metadata": {
        "id": "CCYNTdTdu1zL",
        "colab": {
          "base_uri": "https://localhost:8080/"
        },
        "outputId": "11f0f922-539d-4e96-d9a4-ef21e9b6e21f"
      },
      "execution_count": null,
      "outputs": [
        {
          "output_type": "stream",
          "name": "stdout",
          "text": [
            "Epoch 1/5\n",
            "\u001b[1m1875/1875\u001b[0m \u001b[32m━━━━━━━━━━━━━━━━━━━━\u001b[0m\u001b[37m\u001b[0m \u001b[1m6s\u001b[0m 2ms/step - accuracy: 0.9109 - loss: 0.2977\n",
            "Epoch 2/5\n",
            "\u001b[1m1875/1875\u001b[0m \u001b[32m━━━━━━━━━━━━━━━━━━━━\u001b[0m\u001b[37m\u001b[0m \u001b[1m5s\u001b[0m 3ms/step - accuracy: 0.9849 - loss: 0.0509\n",
            "Epoch 3/5\n",
            "\u001b[1m1875/1875\u001b[0m \u001b[32m━━━━━━━━━━━━━━━━━━━━\u001b[0m\u001b[37m\u001b[0m \u001b[1m5s\u001b[0m 2ms/step - accuracy: 0.9907 - loss: 0.0302\n",
            "Epoch 4/5\n",
            "\u001b[1m1875/1875\u001b[0m \u001b[32m━━━━━━━━━━━━━━━━━━━━\u001b[0m\u001b[37m\u001b[0m \u001b[1m5s\u001b[0m 2ms/step - accuracy: 0.9936 - loss: 0.0206\n",
            "Epoch 5/5\n",
            "\u001b[1m1875/1875\u001b[0m \u001b[32m━━━━━━━━━━━━━━━━━━━━\u001b[0m\u001b[37m\u001b[0m \u001b[1m6s\u001b[0m 3ms/step - accuracy: 0.9959 - loss: 0.0124\n"
          ]
        }
      ]
    },
    {
      "cell_type": "code",
      "source": [
        "# 考考 AI 學得怎麼樣？使用測試資料集來評估\n",
        "test_loss, test_acc = model.evaluate(test_images, test_labels, verbose=2)\n",
        "\n",
        "print(\"\\n測試資料集上的損失值 (Test Loss):\", test_loss)\n",
        "print(\"測試資料集上的準確率 (Test Accuracy):\", test_acc)"
      ],
      "metadata": {
        "id": "KGHAHnxGzvW6",
        "colab": {
          "base_uri": "https://localhost:8080/"
        },
        "outputId": "0fe6311f-79d8-47cd-e408-775a9dfffc9d"
      },
      "execution_count": null,
      "outputs": [
        {
          "output_type": "stream",
          "name": "stdout",
          "text": [
            "313/313 - 1s - 4ms/step - accuracy: 0.9854 - loss: 0.0488\n",
            "\n",
            "測試資料集上的損失值 (Test Loss): 0.04879192262887955\n",
            "測試資料集上的準確率 (Test Accuracy): 0.9854000210762024\n"
          ]
        }
      ]
    },
    {
      "cell_type": "code",
      "source": [
        "import matplotlib.pyplot as plt\n",
        "from tensorflow.keras.preprocessing import image\n",
        "import numpy as np\n",
        "\n",
        "# --- 設定你的圖片路徑 ---\n",
        "my_image_path = \"/content/8.png\"\n",
        "\n",
        "# 圖片預處理：載入、縮放、轉為灰階、標準化\n",
        "# 1. 載入圖片並調整大小 (MNIST 圖片是 28x28 像素)\n",
        "img = image.load_img(my_image_path, target_size=(28, 28), color_mode=\"grayscale\") # 設定為灰階模式)\n",
        "\n",
        "# 2. 將圖片轉換為 NumPy 陣列\n",
        "img_array = image.img_to_array(img)\n",
        "\n",
        "# 3. 增加一個維度 (批次維度)\n",
        "# 模型預期輸入是 (批次數量, 高度, 寬度, 顏色通道)，即使只有一張圖也要加上批次維度\n",
        "img_array = np.expand_dims(img_array, axis=0)\n",
        "\n",
        "# 4. 標準化像素值 (從 0-255 縮放到 0-1)\n",
        "img_array /= 255.0\n",
        "\n",
        "# 顯示這張你準備用來預測的圖片\n",
        "plt.imshow(img, cmap=plt.cm.binary)\n",
        "plt.title(\"Your Digit Number!\")\n",
        "#plt.axis('off')\n",
        "plt.show()"
      ],
      "metadata": {
        "id": "vhv4-dmf9DLQ",
        "colab": {
          "base_uri": "https://localhost:8080/",
          "height": 452
        },
        "outputId": "4a5367b7-354f-458d-af3c-c92d5503dab9"
      },
      "execution_count": null,
      "outputs": [
        {
          "output_type": "display_data",
          "data": {
            "text/plain": [
              "<Figure size 640x480 with 1 Axes>"
            ],
            "image/png": "[encoded data removed]"
          },
          "metadata": {}
        }
      ]
    },
    {
      "cell_type": "code",
      "source": [
        "# 讓 AI 模型進行預測\n",
        "# model.predict() 會輸出每個類別 (0-9) 的機率\n",
        "predictions = model.predict(img_array)\n",
        "\n",
        "# 找出機率最高的數字 (也就是 AI 認為最可能是哪個數字)\n",
        "predicted_digit = np.argmax(predictions[0]) # np.argmax 會找出陣列中最大值的索引\n",
        "\n",
        "# 取得 AI 對這個預測的信心度 (機率值)\n",
        "confidence = predictions[0][predicted_digit] * 100 # 將機率轉換為百分比\n",
        "\n",
        "# 顯示 AI 的預測結果\n",
        "print(f\"\\nAI 預測這個數字是： {predicted_digit}\")\n",
        "print(f\"AI 對這個預測的信心度為： {confidence:.2f}%\")\n",
        "\n",
        "# 顯示所有數字的機率分佈 (可選)\n",
        "print(\"\\n--- 各數字的預測機率 ---\")\n",
        "for i in range(10):\n",
        "    print(f\"數字 {i}: {predictions[0][i]*100:.2f}%\")"
      ],
      "metadata": {
        "id": "fmUedlJc-MiY",
        "colab": {
          "base_uri": "https://localhost:8080/"
        },
        "outputId": "de249117-8fdd-481c-b7ae-2f7eca96d7df"
      },
      "execution_count": null,
      "outputs": [
        {
          "output_type": "stream",
          "name": "stdout",
          "text": [
            "\u001b[1m1/1\u001b[0m \u001b[32m━━━━━━━━━━━━━━━━━━━━\u001b[0m\u001b[37m\u001b[0m \u001b[1m0s\u001b[0m 44ms/step\n",
            "\n",
            "AI 預測這個數字是： 8\n",
            "AI 對這個預測的信心度為： 100.00%\n",
            "\n",
            "--- 各數字的預測機率 ---\n",
            "數字 0: 0.00%\n",
            "數字 1: 0.00%\n",
            "數字 2: 0.00%\n",
            "數字 3: 0.00%\n",
            "數字 4: 0.00%\n",
            "數字 5: 0.00%\n",
            "數字 6: 0.00%\n",
            "數字 7: 0.00%\n",
            "數字 8: 100.00%\n",
            "數字 9: 0.00%\n"
          ]
        }
      ]
    },
    {
      "cell_type": "code",
      "source": [],
      "metadata": {
        "id": "w_LfTNuMCAep"
      },
      "execution_count": null,
      "outputs": []
    },
    {
      "cell_type": "code",
      "source": [],
      "metadata": {
        "id": "pvHG8JQCCEiz"
      },
      "execution_count": null,
      "outputs": []
    }
  ]
}