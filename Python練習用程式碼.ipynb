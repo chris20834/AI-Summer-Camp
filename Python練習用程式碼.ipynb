{
  "nbformat": 4,
  "nbformat_minor": 0,
  "metadata": {
    "colab": {
      "provenance": [],
      "authorship_tag": "ABX9TyO4Sc+MiiM+bA38HrQEmaOa",
      "include_colab_link": true
    },
    "kernelspec": {
      "name": "python3",
      "display_name": "Python 3"
    },
    "language_info": {
      "name": "python"
    }
  },
  "cells": [
    {
      "cell_type": "markdown",
      "metadata": {
        "id": "view-in-github",
        "colab_type": "text"
      },
      "source": [
        "<a href=\"https://colab.research.google.com/github/chris20834/AI-Summer-Camp/blob/main/Python%E7%B7%B4%E7%BF%92%E7%94%A8%E7%A8%8B%E5%BC%8F%E7%A2%BC.ipynb\" target=\"_parent\"><img src=\"https://colab.research.google.com/assets/colab-badge.svg\" alt=\"Open In Colab\"/></a>"
      ]
    },
    {
      "cell_type": "code",
      "metadata": {
        "id": "924f3c9a"
      },
      "source": [
        "my_name = \"Chris\""
      ],
      "execution_count": null,
      "outputs": []
    },
    {
      "cell_type": "code",
      "source": [
        "1_name = \"Chris\""
      ],
      "metadata": {
        "colab": {
          "base_uri": "https://localhost:8080/",
          "height": 106
        },
        "id": "x6pD8eXxcRx6",
        "outputId": "6905db49-b7dc-483f-d17b-062f3641e6d1"
      },
      "execution_count": null,
      "outputs": [
        {
          "output_type": "error",
          "ename": "SyntaxError",
          "evalue": "invalid decimal literal (ipython-input-4-3653586454.py, line 1)",
          "traceback": [
            "\u001b[0;36m  File \u001b[0;32m\"/tmp/ipython-input-4-3653586454.py\"\u001b[0;36m, line \u001b[0;32m1\u001b[0m\n\u001b[0;31m    1_name = \"Chris\"\u001b[0m\n\u001b[0m     ^\u001b[0m\n\u001b[0;31mSyntaxError\u001b[0m\u001b[0;31m:\u001b[0m invalid decimal literal\n"
          ]
        }
      ]
    },
    {
      "cell_type": "code",
      "source": [
        "user_id_01 = 123"
      ],
      "metadata": {
        "id": "HYaXAFJccSId"
      },
      "execution_count": null,
      "outputs": []
    },
    {
      "cell_type": "code",
      "source": [
        "user-id = 123"
      ],
      "metadata": {
        "colab": {
          "base_uri": "https://localhost:8080/",
          "height": 106
        },
        "id": "jDjaty4jjYoM",
        "outputId": "e2fb0257-8671-4c94-adf6-5db21789724f"
      },
      "execution_count": null,
      "outputs": [
        {
          "output_type": "error",
          "ename": "SyntaxError",
          "evalue": "cannot assign to expression here. Maybe you meant '==' instead of '='? (ipython-input-9-3149939444.py, line 1)",
          "traceback": [
            "\u001b[0;36m  File \u001b[0;32m\"/tmp/ipython-input-9-3149939444.py\"\u001b[0;36m, line \u001b[0;32m1\u001b[0m\n\u001b[0;31m    user-id = 123\u001b[0m\n\u001b[0m    ^\u001b[0m\n\u001b[0;31mSyntaxError\u001b[0m\u001b[0;31m:\u001b[0m cannot assign to expression here. Maybe you meant '==' instead of '='?\n"
          ]
        }
      ]
    },
    {
      "cell_type": "code",
      "source": [
        "Name = \"Chris\"\n",
        "Fruit = \"Mango\"\n",
        "Animal = \"Elephant\"\n",
        "Name, Fruit, Animal"
      ],
      "metadata": {
        "id": "2mS4rHHusSPM",
        "colab": {
          "base_uri": "https://localhost:8080/"
        },
        "outputId": "c714f8dd-9bff-479c-a529-156e11ad93e6"
      },
      "execution_count": null,
      "outputs": [
        {
          "output_type": "execute_result",
          "data": {
            "text/plain": [
              "('Chris', 'Mango', 'Elephant')"
            ]
          },
          "metadata": {},
          "execution_count": 5
        }
      ]
    },
    {
      "cell_type": "code",
      "source": [
        "pi = 3.14\n",
        "weather = '今天天氣很好。'\n",
        "mixed_list = ['蘋果', 100, 3.14, '香蕉']\n",
        "pi, weather, mixed_list"
      ],
      "metadata": {
        "colab": {
          "base_uri": "https://localhost:8080/"
        },
        "id": "iA0vNByAZfC0",
        "outputId": "c52ea9c0-095f-43b7-8544-07bd9b12257b"
      },
      "execution_count": null,
      "outputs": [
        {
          "output_type": "execute_result",
          "data": {
            "text/plain": [
              "(3.14, '今天天氣很好。', ['蘋果', 100, 3.14, '香蕉'])"
            ]
          },
          "metadata": {},
          "execution_count": 6
        }
      ]
    },
    {
      "cell_type": "code",
      "source": [
        "a = 5 + 3\n",
        "b = 10 - 4\n",
        "c = 2 * 6\n",
        "d = 15 / 3\n",
        "e = 10 % 3\n",
        "a, b, c, d, e"
      ],
      "metadata": {
        "colab": {
          "base_uri": "https://localhost:8080/"
        },
        "id": "V_rV9Plgagbf",
        "outputId": "6e2464ec-c6f8-4c22-c377-72d2765f163e"
      },
      "execution_count": null,
      "outputs": [
        {
          "output_type": "execute_result",
          "data": {
            "text/plain": [
              "(8, 6, 12, 5.0, 1)"
            ]
          },
          "metadata": {},
          "execution_count": 7
        }
      ]
    },
    {
      "cell_type": "code",
      "source": [
        "if 5 == 5:\n",
        "  a = 'Yes'\n",
        "else:\n",
        "  a = 'No'\n",
        "a"
      ],
      "metadata": {
        "colab": {
          "base_uri": "https://localhost:8080/",
          "height": 36
        },
        "id": "FVNzz0bybKR3",
        "outputId": "09ffa072-2638-43f9-8bd3-73ab3fcdaab8"
      },
      "execution_count": null,
      "outputs": [
        {
          "output_type": "execute_result",
          "data": {
            "text/plain": [
              "'Yes'"
            ],
            "application/vnd.google.colaboratory.intrinsic+json": {
              "type": "string"
            }
          },
          "metadata": {},
          "execution_count": 10
        }
      ]
    },
    {
      "cell_type": "code",
      "source": [
        "score = 85\n",
        "\n",
        "if score >= 60:  # 如果分數大於等於 60\n",
        "  print(\"恭喜你，及格了！\") # 就顯示這句話\n",
        "else:            # 否則（分數小於 60）\n",
        "  print(\"再努力，下次會更好！\") # 就顯示這句話"
      ],
      "metadata": {
        "colab": {
          "base_uri": "https://localhost:8080/"
        },
        "id": "-cgopryqbezw",
        "outputId": "605a5fd3-1136-4772-97ec-7ce3054cb245"
      },
      "execution_count": null,
      "outputs": [
        {
          "output_type": "stream",
          "name": "stdout",
          "text": [
            "恭喜你，及格了！\n"
          ]
        }
      ]
    },
    {
      "cell_type": "code",
      "source": [
        "num_list = [1, 2, 3]\n",
        "x = 0\n",
        "for i in num_list:\n",
        "  x = x + i\n",
        "x"
      ],
      "metadata": {
        "colab": {
          "base_uri": "https://localhost:8080/"
        },
        "id": "r8s6z57vcEsj",
        "outputId": "1ad73c81-b634-4f04-9685-4ebe7140f7cb"
      },
      "execution_count": null,
      "outputs": [
        {
          "output_type": "execute_result",
          "data": {
            "text/plain": [
              "6"
            ]
          },
          "metadata": {},
          "execution_count": 14
        }
      ]
    },
    {
      "cell_type": "code",
      "source": [
        "x = 0\n",
        "y = 10\n",
        "while x < y:\n",
        "  x = x + 1\n",
        "x"
      ],
      "metadata": {
        "colab": {
          "base_uri": "https://localhost:8080/"
        },
        "id": "nbyoMXGvfqB3",
        "outputId": "832bbffd-a7e3-4c4c-eb1f-5f5ed12ab9fc"
      },
      "execution_count": null,
      "outputs": [
        {
          "output_type": "execute_result",
          "data": {
            "text/plain": [
              "10"
            ]
          },
          "metadata": {},
          "execution_count": 16
        }
      ]
    },
    {
      "cell_type": "code",
      "source": [],
      "metadata": {
        "id": "jXix3ZiXgmjI"
      },
      "execution_count": null,
      "outputs": []
    }
  ]
}