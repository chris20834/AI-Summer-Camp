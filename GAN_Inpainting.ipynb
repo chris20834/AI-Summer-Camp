{
  "nbformat": 4,
  "nbformat_minor": 0,
  "metadata": {
    "colab": {
      "provenance": [],
      "gpuType": "T4",
      "authorship_tag": "ABX9TyOVkGyQEfNcusizidUgKmvU",
      "include_colab_link": true
    },
    "kernelspec": {
      "name": "python3",
      "display_name": "Python 3"
    },
    "language_info": {
      "name": "python"
    },
    "accelerator": "GPU"
  },
  "cells": [
    {
      "cell_type": "markdown",
      "metadata": {
        "id": "view-in-github",
        "colab_type": "text"
      },
      "source": [
        "<a href=\"https://colab.research.google.com/github/chris20834/AI-Summer-Camp/blob/main/GAN_Inpainting.ipynb\" target=\"_parent\"><img src=\"https://colab.research.google.com/assets/colab-badge.svg\" alt=\"Open In Colab\"/></a>"
      ]
    },
    {
      "cell_type": "markdown",
      "source": [
        "# Step 1. 安裝必要套件"
      ],
      "metadata": {
        "id": "myHUxTqAvP8I"
      }
    },
    {
      "cell_type": "code",
      "execution_count": null,
      "metadata": {
        "id": "4_uHdhptvF7G"
      },
      "outputs": [],
      "source": [
        "#!pip install torch torchvision matplotlib"
      ]
    },
    {
      "cell_type": "markdown",
      "source": [
        "# Step 2. 數據集下載與遮罩函數"
      ],
      "metadata": {
        "id": "hvE0uLKywvWW"
      }
    },
    {
      "cell_type": "code",
      "source": [
        "import torch  # 匯入 PyTorch 主套件，用於 tensor 運算與神經網路\n",
        "from torchvision import datasets, transforms  # 匯入 torchvision 的資料集與資料預處理模組\n",
        "from torch.utils.data import DataLoader  # 匯入 DataLoader，用於批次資料載入\n",
        "import matplotlib.pyplot as plt  # 匯入 matplotlib，用於畫圖顯示\n",
        "\n",
        "# 定義一個資料轉換：將圖片轉為 Tensor 格式（0~1，且多增加一個 channel 維度）\n",
        "transform = transforms.ToTensor()\n",
        "\n",
        "# 載入 MNIST 手寫數字訓練資料集\n",
        "# root: 資料存放路徑\n",
        "# train=True: 使用訓練集\n",
        "# download=True: 如果沒有資料就下載\n",
        "# transform=transform: 圖片先做 ToTensor 處理\n",
        "train_data = datasets.MNIST(root='./data', train=True, download=True, transform=transform)\n",
        "\n",
        "# 建立 DataLoader，設定 batch 大小為 64，並在每個 epoch 隨機打亂\n",
        "train_loader = DataLoader(train_data, batch_size=64, shuffle=True)\n",
        "\n",
        "# 定義遮罩函式，將圖片中央的正方形區塊設為 0（黑色遮罩）\n",
        "def mask_center(imgs, size=14):\n",
        "    imgs = imgs.clone()  # 複製一份，不修改原 tensor\n",
        "    c = imgs.size(2) // 2  # 取得圖片中心點座標（以height為例：28//2=14）\n",
        "    l = size // 2  # 遮罩區塊半徑（例如size=14時，l=7）\n",
        "    # 遮罩中央區塊：[中心-l, 中心+l)，同時套用於高度和寬度\n",
        "    imgs[:, :, c-l:c+l, c-l:c+l] = 0\n",
        "    return imgs  # 回傳加上中央遮罩的新圖片張量"
      ],
      "metadata": {
        "id": "xn4MRUWXvKlS"
      },
      "execution_count": 4,
      "outputs": []
    },
    {
      "cell_type": "markdown",
      "source": [
        "# Step 3. 建立 Generator & Discriminator"
      ],
      "metadata": {
        "id": "LXggN-Hvw0zw"
      }
    },
    {
      "cell_type": "code",
      "source": [
        "import torch.nn as nn\n",
        "\n",
        "# Generator：UNet 結構的簡單實作，包含 Encoder、Decoder 和 skip connection\n",
        "class UNetGenerator(nn.Module):\n",
        "    def __init__(self):\n",
        "        super().__init__()\n",
        "        # Encoder: 兩層卷積，逐步下採樣\n",
        "        self.enc1 = nn.Sequential(\n",
        "            nn.Conv2d(1, 64, 4, 2, 1),  # 第一層卷積，輸入通道1，輸出64，kernel=4, stride=2, padding=1\n",
        "            nn.ReLU()                   # 啟用函數\n",
        "        )\n",
        "        self.enc2 = nn.Sequential(\n",
        "            nn.Conv2d(64, 128, 4, 2, 1), # 第二層卷積，輸入64，輸出128\n",
        "            nn.ReLU()\n",
        "        )\n",
        "        # Decoder: 兩層反卷積（上採樣）\n",
        "        self.dec1 = nn.Sequential(\n",
        "            nn.ConvTranspose2d(128, 64, 4, 2, 1),  # 第一層反卷積，從128回到64，output size 14x14\n",
        "            nn.ReLU()\n",
        "        )\n",
        "        self.dec2 = nn.Sequential(\n",
        "            nn.ConvTranspose2d(128, 1, 4, 2, 1),   # 最後一層反卷積，輸入128(=64+64)，輸出1通道（灰階），output 28x28\n",
        "            nn.Tanh()  # 將輸出壓到 [-1, 1]，適合生成對抗網路的output\n",
        "        )\n",
        "\n",
        "    def forward(self, x):\n",
        "        e1 = self.enc1(x)           # 輸入x，經第一層encoder，shape: (batch, 64, 14, 14)\n",
        "        e2 = self.enc2(e1)          # 經第二層encoder，shape: (batch, 128, 7, 7)\n",
        "        d1 = self.dec1(e2)          # decoder第一層，up-sample到 (batch, 64, 14, 14)\n",
        "        d1_cat = torch.cat([e1, d1], dim=1)  # 與 encoder1 的特徵圖做 channel 維度串接 (skip connection)，shape: (batch, 128, 14, 14)\n",
        "        out = self.dec2(d1_cat)     # 經最後一層反卷積還原至 (batch, 1, 28, 28)\n",
        "        return out\n",
        "\n",
        "# Discriminator：簡單的卷積分類器\n",
        "class Discriminator(nn.Module):\n",
        "    def __init__(self):\n",
        "        super().__init__()\n",
        "        self.main = nn.Sequential(\n",
        "            nn.Conv2d(1, 64, 4, 2, 1),      # 第一層卷積，下採樣，輸出 shape (batch, 64, 4, 4)\n",
        "            nn.LeakyReLU(0.2),              # LeakyReLU 啟用函數\n",
        "            nn.Conv2d(64, 128, 4, 2, 1),    # 第二層卷積，下採樣，輸出 shape (batch, 128, 2, 2)\n",
        "            nn.LeakyReLU(0.2),\n",
        "            nn.Flatten(),                   # 展平成一維\n",
        "            nn.Linear(128*2*2, 1),          # 全連接層，輸入維度512(=128*2*2)，輸出1（真或假）\n",
        "            nn.Sigmoid()                    # Sigmoid輸出為0~1間，代表\"真實\"的機率\n",
        "        )\n",
        "    def forward(self, x):\n",
        "        return self.main(x)  # 前向傳播，傳入圖片，回傳為真的機率"
      ],
      "metadata": {
        "id": "Gwaa9hR5wr1X"
      },
      "execution_count": 5,
      "outputs": []
    },
    {
      "cell_type": "markdown",
      "source": [
        "# Step 4. 訓練（僅2個epoch，快速測試）"
      ],
      "metadata": {
        "id": "l7c-9wwMw5EA"
      }
    },
    {
      "cell_type": "code",
      "source": [
        "device = torch.device('cuda' if torch.cuda.is_available() else 'cpu')\n",
        "# 建立 UNetGenerator 和 Discriminator，分別丟到 GPU（如果有）或 CPU\n",
        "G, D = UNetGenerator().to(device), Discriminator().to(device)\n",
        "loss_fn = nn.BCELoss()   # 二元交叉熵，判別器用於區分真偽\n",
        "l1_loss = nn.L1Loss()    # L1 損失（像素差異），鼓勵生成貼近真實\n",
        "\n",
        "# 建立 Adam optimizer，分別給 G 與 D\n",
        "opt_G = torch.optim.Adam(G.parameters(), lr=2e-4)\n",
        "opt_D = torch.optim.Adam(D.parameters(), lr=2e-4)\n",
        "\n",
        "# 訓練 2 個 epoch\n",
        "for epoch in range(2):\n",
        "    for imgs, _ in train_loader:   # 取出每一個 batch（imgs shape: [batch, 1, 28, 28]）\n",
        "        imgs = imgs.to(device)     # 放到指定運算裝置\n",
        "        masked = mask_center(imgs, size=8)  # 把中央 8x8 遮起來，模擬修復任務\n",
        "\n",
        "        # 只拿中央 8x8 區塊作為修復目標（ground truth）\n",
        "        real = imgs[:, :, 10:18, 10:18]\n",
        "        # Generator 修補後的結果，同樣只拿中央 8x8 區塊\n",
        "        fake = G(masked)[:, :, 10:18, 10:18]\n",
        "\n",
        "        # === 訓練 Discriminator ===\n",
        "        real_labels = torch.ones(imgs.size(0), 1, device=device)   # 真圖標記為 1\n",
        "        fake_labels = torch.zeros(imgs.size(0), 1, device=device)  # 假圖標記為 0\n",
        "        out_real = D(real)                 # D 判斷真圖\n",
        "        out_fake = D(fake.detach())        # D 判斷假圖（detach 保證不傳遞梯度到 G）\n",
        "        loss_D = (loss_fn(out_real, real_labels) + loss_fn(out_fake, fake_labels)) / 2  # 判別器損失為真假平均\n",
        "        opt_D.zero_grad(); loss_D.backward(); opt_D.step()  # 反向傳播並更新 D\n",
        "\n",
        "        # === 訓練 Generator ===\n",
        "        out_fake = D(fake)  # 用最新 G 結果再判斷一次\n",
        "        # Generator 損失 = 欺騙 D 的 loss + L1（像素）損失（權重 10 可調整）\n",
        "        loss_G = loss_fn(out_fake, real_labels) + 10 * l1_loss(fake, real)\n",
        "        opt_G.zero_grad(); loss_G.backward(); opt_G.step()  # 反向傳播並更新 G\n",
        "\n",
        "    # 每個 epoch 輸出一次 loss\n",
        "    print(f\"Epoch {epoch+1}/2 | Loss_D: {loss_D.item():.4f} | Loss_G: {loss_G.item():.4f}\")\n"
      ],
      "metadata": {
        "colab": {
          "base_uri": "https://localhost:8080/"
        },
        "id": "Gte-JeE2wtlQ",
        "outputId": "47e9ce6b-b444-4630-86d6-f1207893c48c"
      },
      "execution_count": 6,
      "outputs": [
        {
          "output_type": "stream",
          "name": "stdout",
          "text": [
            "Epoch 1/2 | Loss_D: 0.6487 | Loss_G: 3.0212\n",
            "Epoch 2/2 | Loss_D: 0.6288 | Loss_G: 2.5088\n"
          ]
        }
      ]
    },
    {
      "cell_type": "markdown",
      "source": [
        "# Step 5. 展示修復效果"
      ],
      "metadata": {
        "id": "jvcqiGa_yRaw"
      }
    },
    {
      "cell_type": "code",
      "source": [
        "# 從訓練資料中隨機取出一個 batch，並只用第一張圖做測試\n",
        "imgs, _ = next(iter(train_loader))\n",
        "test_img = imgs[0:1].to(device)  # 取出第 0 張圖，shape: [1, 1, 28, 28]\n",
        "\n",
        "# 用和訓練相同的遮罩方式，遮蔽中央 8x8 區塊\n",
        "masked = mask_center(test_img, size=8)\n",
        "\n",
        "with torch.no_grad():  # 測試時不用計算梯度（節省運算資源）\n",
        "    output = G(masked).cpu()  # 將遮罩圖丟到 Generator，產生修復圖，並移到 CPU\n",
        "    repaired = masked.cpu().clone()  # 複製遮罩圖當基底\n",
        "    # 只用 Generator 的 output 取代中央 8x8 區塊，其餘維持原遮罩圖\n",
        "    repaired[:, :, 10:18, 10:18] = output[:, :, 10:18, 10:18]\n",
        "\n",
        "plt.figure(figsize=(10,3))\n",
        "# 顯示原圖\n",
        "plt.subplot(1,3,1)\n",
        "plt.imshow(test_img.cpu()[0][0], cmap='gray')\n",
        "plt.title('Original')\n",
        "plt.axis('off')\n",
        "# 顯示遮罩圖（中央 8x8 已遮蔽）\n",
        "plt.subplot(1,3,2)\n",
        "plt.imshow(masked.cpu()[0][0], cmap='gray')\n",
        "plt.title('Masked')\n",
        "plt.axis('off')\n",
        "# 顯示修復圖（中央區塊已用 Generator 修補）\n",
        "plt.subplot(1,3,3)\n",
        "plt.imshow(repaired[0][0], cmap='gray')\n",
        "plt.title('Repaired')\n",
        "plt.axis('off')\n",
        "plt.show()\n"
      ],
      "metadata": {
        "colab": {
          "base_uri": "https://localhost:8080/",
          "height": 287
        },
        "id": "MoZaK1yOw7k1",
        "outputId": "554092dc-d3b3-46db-f2dc-a9b1a39838a1"
      },
      "execution_count": 16,
      "outputs": [
        {
          "output_type": "display_data",
          "data": {
            "text/plain": [
              "<Figure size 1000x300 with 3 Axes>"
            ],
            "image/png": "[encoded data removed]"
          },
          "metadata": {}
        }
      ]
    },
    {
      "cell_type": "markdown",
      "source": [
        "# Step 6. 修復自己提供的照片"
      ],
      "metadata": {
        "id": "cQ5R4mkNP5v5"
      }
    },
    {
      "cell_type": "code",
      "source": [
        "from google.colab import files\n",
        "uploaded = files.upload()  # 選擇你的手寫數字 PNG 或 JPG 檔案"
      ],
      "metadata": {
        "id": "hZ597DUS4CS-",
        "colab": {
          "base_uri": "https://localhost:8080/",
          "height": 76
        },
        "outputId": "7f296708-c6b1-43c8-9985-4ba848ffd2fc"
      },
      "execution_count": 11,
      "outputs": [
        {
          "output_type": "display_data",
          "data": {
            "text/plain": [
              "<IPython.core.display.HTML object>"
            ],
            "text/html": [
              "\n",
              "     <input type=\"file\" id=\"files-1b8671ec-ee38-4e01-af70-f2f267fad639\" name=\"files[]\" multiple disabled\n",
              "        style=\"border:none\" />\n",
              "     <output id=\"result-1b8671ec-ee38-4e01-af70-f2f267fad639\">\n",
              "      Upload widget is only available when the cell has been executed in the\n",
              "      current browser session. Please rerun this cell to enable.\n",
              "      </output>\n",
              "      <script>// Copyright 2017 Google LLC\n",
              "//\n",
              "// Licensed under the Apache License, Version 2.0 (the \"License\");\n",
              "// you may not use this file except in compliance with the License.\n",
              "// You may obtain a copy of the License at\n",
              "//\n",
              "//      http://www.apache.org/licenses/LICENSE-2.0\n",
              "//\n",
              "// Unless required by applicable law or agreed to in writing, software\n",
              "// distributed under the License is distributed on an \"AS IS\" BASIS,\n",
              "// WITHOUT WARRANTIES OR CONDITIONS OF ANY KIND, either express or implied.\n",
              "// See the License for the specific language governing permissions and\n",
              "// limitations under the License.\n",
              "\n",
              "/**\n",
              " * @fileoverview Helpers for google.colab Python module.\n",
              " */\n",
              "(function(scope) {\n",
              "function span(text, styleAttributes = {}) {\n",
              "  const element = document.createElement('span');\n",
              "  element.textContent = text;\n",
              "  for (const key of Object.keys(styleAttributes)) {\n",
              "    element.style[key] = styleAttributes[key];\n",
              "  }\n",
              "  return element;\n",
              "}\n",
              "\n",
              "// Max number of bytes which will be uploaded at a time.\n",
              "const MAX_PAYLOAD_SIZE = 100 * 1024;\n",
              "\n",
              "function _uploadFiles(inputId, outputId) {\n",
              "  const steps = uploadFilesStep(inputId, outputId);\n",
              "  const outputElement = document.getElementById(outputId);\n",
              "  // Cache steps on the outputElement to make it available for the next call\n",
              "  // to uploadFilesContinue from Python.\n",
              "  outputElement.steps = steps;\n",
              "\n",
              "  return _uploadFilesContinue(outputId);\n",
              "}\n",
              "\n",
              "// This is roughly an async generator (not supported in the browser yet),\n",
              "// where there are multiple asynchronous steps and the Python side is going\n",
              "// to poll for completion of each step.\n",
              "// This uses a Promise to block the python side on completion of each step,\n",
              "// then passes the result of the previous step as the input to the next step.\n",
              "function _uploadFilesContinue(outputId) {\n",
              "  const outputElement = document.getElementById(outputId);\n",
              "  const steps = outputElement.steps;\n",
              "\n",
              "  const next = steps.next(outputElement.lastPromiseValue);\n",
              "  return Promise.resolve(next.value.promise).then((value) => {\n",
              "    // Cache the last promise value to make it available to the next\n",
              "    // step of the generator.\n",
              "    outputElement.lastPromiseValue = value;\n",
              "    return next.value.response;\n",
              "  });\n",
              "}\n",
              "\n",
              "/**\n",
              " * Generator function which is called between each async step of the upload\n",
              " * process.\n",
              " * @param {string} inputId Element ID of the input file picker element.\n",
              " * @param {string} outputId Element ID of the output display.\n",
              " * @return {!Iterable<!Object>} Iterable of next steps.\n",
              " */\n",
              "function* uploadFilesStep(inputId, outputId) {\n",
              "  const inputElement = document.getElementById(inputId);\n",
              "  inputElement.disabled = false;\n",
              "\n",
              "  const outputElement = document.getElementById(outputId);\n",
              "  outputElement.innerHTML = '';\n",
              "\n",
              "  const pickedPromise = new Promise((resolve) => {\n",
              "    inputElement.addEventListener('change', (e) => {\n",
              "      resolve(e.target.files);\n",
              "    });\n",
              "  });\n",
              "\n",
              "  const cancel = document.createElement('button');\n",
              "  inputElement.parentElement.appendChild(cancel);\n",
              "  cancel.textContent = 'Cancel upload';\n",
              "  const cancelPromise = new Promise((resolve) => {\n",
              "    cancel.onclick = () => {\n",
              "      resolve(null);\n",
              "    };\n",
              "  });\n",
              "\n",
              "  // Wait for the user to pick the files.\n",
              "  const files = yield {\n",
              "    promise: Promise.race([pickedPromise, cancelPromise]),\n",
              "    response: {\n",
              "      action: 'starting',\n",
              "    }\n",
              "  };\n",
              "\n",
              "  cancel.remove();\n",
              "\n",
              "  // Disable the input element since further picks are not allowed.\n",
              "  inputElement.disabled = true;\n",
              "\n",
              "  if (!files) {\n",
              "    return {\n",
              "      response: {\n",
              "        action: 'complete',\n",
              "      }\n",
              "    };\n",
              "  }\n",
              "\n",
              "  for (const file of files) {\n",
              "    const li = document.createElement('li');\n",
              "    li.append(span(file.name, {fontWeight: 'bold'}));\n",
              "    li.append(span(\n",
              "        `(${file.type || 'n/a'}) - ${file.size} bytes, ` +\n",
              "        `last modified: ${\n",
              "            file.lastModifiedDate ? file.lastModifiedDate.toLocaleDateString() :\n",
              "                                    'n/a'} - `));\n",
              "    const percent = span('0% done');\n",
              "    li.appendChild(percent);\n",
              "\n",
              "    outputElement.appendChild(li);\n",
              "\n",
              "    const fileDataPromise = new Promise((resolve) => {\n",
              "      const reader = new FileReader();\n",
              "      reader.onload = (e) => {\n",
              "        resolve(e.target.result);\n",
              "      };\n",
              "      reader.readAsArrayBuffer(file);\n",
              "    });\n",
              "    // Wait for the data to be ready.\n",
              "    let fileData = yield {\n",
              "      promise: fileDataPromise,\n",
              "      response: {\n",
              "        action: 'continue',\n",
              "      }\n",
              "    };\n",
              "\n",
              "    // Use a chunked sending to avoid message size limits. See b/62115660.\n",
              "    let position = 0;\n",
              "    do {\n",
              "      const length = Math.min(fileData.byteLength - position, MAX_PAYLOAD_SIZE);\n",
              "      const chunk = new Uint8Array(fileData, position, length);\n",
              "      position += length;\n",
              "\n",
              "      const base64 = btoa(String.fromCharCode.apply(null, chunk));\n",
              "      yield {\n",
              "        response: {\n",
              "          action: 'append',\n",
              "          file: file.name,\n",
              "          data: base64,\n",
              "        },\n",
              "      };\n",
              "\n",
              "      let percentDone = fileData.byteLength === 0 ?\n",
              "          100 :\n",
              "          Math.round((position / fileData.byteLength) * 100);\n",
              "      percent.textContent = `${percentDone}% done`;\n",
              "\n",
              "    } while (position < fileData.byteLength);\n",
              "  }\n",
              "\n",
              "  // All done.\n",
              "  yield {\n",
              "    response: {\n",
              "      action: 'complete',\n",
              "    }\n",
              "  };\n",
              "}\n",
              "\n",
              "scope.google = scope.google || {};\n",
              "scope.google.colab = scope.google.colab || {};\n",
              "scope.google.colab._files = {\n",
              "  _uploadFiles,\n",
              "  _uploadFilesContinue,\n",
              "};\n",
              "})(self);\n",
              "</script> "
            ]
          },
          "metadata": {}
        },
        {
          "output_type": "stream",
          "name": "stdout",
          "text": [
            "Saving 9.png to 9.png\n"
          ]
        }
      ]
    },
    {
      "cell_type": "code",
      "source": [
        "from PIL import Image\n",
        "#import torchvision.transforms as T\n",
        "#import torch\n",
        "\n",
        "# 讀取圖片（檔名請改成你剛上傳的）\n",
        "img = Image.open('9.png').convert('L')  # 'L' 代表灰階\n",
        "img = img.resize((28,28))  # 若不是28x28，自動調整\n",
        "transform = transforms.ToTensor()   # 轉成 tensor，shape: [1,28,28]，範圍 [0,1]\n",
        "img_tensor = transform(img).unsqueeze(0)  # 增加 batch 維，shape: [1,1,28,28]\n",
        "\n",
        "# 若你的網路在 GPU，需放到同一裝置\n",
        "test_img = img_tensor.to(device)\n",
        "\n",
        "# 用和訓練相同的遮罩方式，遮蔽中央 8x8 區塊\n",
        "masked = mask_center(test_img, size=8)\n",
        "\n",
        "with torch.no_grad():  # 測試時不用計算梯度（節省運算資源）\n",
        "    output = G(masked).cpu()  # 將遮罩圖丟到 Generator，產生修復圖，並移到 CPU\n",
        "    repaired = masked.cpu().clone()  # 複製遮罩圖當基底\n",
        "    # 只用 Generator 的 output 取代中央 8x8 區塊，其餘維持原遮罩圖\n",
        "    repaired[:, :, 10:18, 10:18] = output[:, :, 10:18, 10:18]\n",
        "\n",
        "plt.figure(figsize=(10,3))\n",
        "# 顯示原圖\n",
        "plt.subplot(1,3,1)\n",
        "plt.imshow(test_img.cpu()[0][0], cmap='gray')\n",
        "plt.title('Original')\n",
        "plt.axis('off')\n",
        "# 顯示遮罩圖（中央 8x8 已遮蔽）\n",
        "plt.subplot(1,3,2)\n",
        "plt.imshow(masked.cpu()[0][0], cmap='gray')\n",
        "plt.title('Masked')\n",
        "plt.axis('off')\n",
        "# 顯示修復圖（中央區塊已用 Generator 修補）\n",
        "plt.subplot(1,3,3)\n",
        "plt.imshow(repaired[0][0], cmap='gray')\n",
        "plt.title('Repaired')\n",
        "plt.axis('off')\n",
        "plt.show()"
      ],
      "metadata": {
        "id": "q5s4-2nn4yfP",
        "colab": {
          "base_uri": "https://localhost:8080/",
          "height": 287
        },
        "outputId": "ee3a71bf-9cc1-4b6a-f384-a1623575e4a1"
      },
      "execution_count": 14,
      "outputs": [
        {
          "output_type": "display_data",
          "data": {
            "text/plain": [
              "<Figure size 1000x300 with 3 Axes>"
            ],
            "image/png": "[encoded data removed]"
          },
          "metadata": {}
        }
      ]
    },
    {
      "cell_type": "code",
      "source": [],
      "metadata": {
        "id": "36xAJc5mPm63"
      },
      "execution_count": null,
      "outputs": []
    }
  ]
}