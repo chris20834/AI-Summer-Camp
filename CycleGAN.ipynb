{
  "nbformat": 4,
  "nbformat_minor": 0,
  "metadata": {
    "colab": {
      "provenance": [],
      "gpuType": "T4",
      "include_colab_link": true
    },
    "kernelspec": {
      "name": "python3",
      "display_name": "Python 3"
    },
    "language_info": {
      "name": "python"
    },
    "accelerator": "GPU"
  },
  "cells": [
    {
      "cell_type": "markdown",
      "metadata": {
        "id": "view-in-github",
        "colab_type": "text"
      },
      "source": [
        "<a href=\"https://colab.research.google.com/github/chris20834/AI-Summer-Camp/blob/main/CycleGAN.ipynb\" target=\"_parent\"><img src=\"https://colab.research.google.com/assets/colab-badge.svg\" alt=\"Open In Colab\"/></a>"
      ]
    },
    {
      "cell_type": "code",
      "execution_count": null,
      "metadata": {
        "id": "_U2Ds8nJKwaz"
      },
      "outputs": [],
      "source": [
        "# 安裝 git & 下載 CycleGAN 專案\n",
        "!git clone https://github.com/junyanz/pytorch-CycleGAN-and-pix2pix\n",
        "%cd pytorch-CycleGAN-and-pix2pix\n",
        "\n",
        "# 安裝必要的 Python 套件\n",
        "!pip install -r requirements.txt"
      ]
    },
    {
      "cell_type": "code",
      "source": [
        "# 下載預訓練模型\n",
        "!bash ./scripts/download_cyclegan_model.sh horse2zebra\n",
        "!bash ./scripts/download_cyclegan_model.sh summer2winter_yosemite\n",
        "!bash ./scripts/download_cyclegan_model.sh style_ukiyoe\n",
        "!bash ./scripts/download_cyclegan_model.sh style_vangogh"
      ],
      "metadata": {
        "id": "hgMAuEPvKymZ"
      },
      "execution_count": null,
      "outputs": []
    },
    {
      "cell_type": "code",
      "source": [
        "from google.colab import files\n",
        "uploaded = files.upload()"
      ],
      "metadata": {
        "id": "Cxo2vgiVN4ty"
      },
      "execution_count": null,
      "outputs": []
    },
    {
      "cell_type": "code",
      "source": [
        "import os\n",
        "\n",
        "# 建立資料夾結構\n",
        "os.makedirs('datasets/one_img/testA', exist_ok=True)\n",
        "os.makedirs('results/one_img/', exist_ok=True)\n",
        "\n",
        "# 複製上傳圖片\n",
        "import shutil\n",
        "uploaded_filename = 'horse.jpg'#list(uploaded.keys())[0]\n",
        "shutil.copy(uploaded_filename, 'datasets/one_img/testA/')\n",
        "\n",
        "# 執行 CycleGAN 測試\n",
        "!python test.py \\\n",
        "  --dataroot ./datasets/one_img \\\n",
        "  --name style_vangogh_pretrained \\\n",
        "  --model test \\\n",
        "  --no_dropout \\\n",
        "  --preprocess scale_width_and_crop \\\n",
        "  --load_size 256 \\\n",
        "  --crop_size 256 \\\n",
        "  --results_dir ./results/one_img \\\n",
        "  --num_test 1"
      ],
      "metadata": {
        "id": "M1hC7hG6OAeh"
      },
      "execution_count": null,
      "outputs": []
    },
    {
      "cell_type": "code",
      "source": [],
      "metadata": {
        "id": "utqbVw3RtoOD"
      },
      "execution_count": null,
      "outputs": []
    },
    {
      "cell_type": "code",
      "source": [],
      "metadata": {
        "id": "jhnXDxcYtoE_"
      },
      "execution_count": null,
      "outputs": []
    }
  ]
}