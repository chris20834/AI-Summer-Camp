{
  "nbformat": 4,
  "nbformat_minor": 0,
  "metadata": {
    "colab": {
      "provenance": [],
      "authorship_tag": "ABX9TyM7TCz7whI2toj+jUXo6ZLY",
      "include_colab_link": true
    },
    "kernelspec": {
      "name": "python3",
      "display_name": "Python 3"
    },
    "language_info": {
      "name": "python"
    }
  },
  "cells": [
    {
      "cell_type": "markdown",
      "metadata": {
        "id": "view-in-github",
        "colab_type": "text"
      },
      "source": [
        "<a href=\"https://colab.research.google.com/github/chris20834/AI-Summer-Camp/blob/main/WebsiteLinks.ipynb\" target=\"_parent\"><img src=\"https://colab.research.google.com/assets/colab-badge.svg\" alt=\"Open In Colab\"/></a>"
      ]
    },
    {
      "cell_type": "code",
      "execution_count": null,
      "metadata": {
        "id": "KB9s_pRMHoDA"
      },
      "outputs": [],
      "source": [
        "# 風格轉換體驗\n",
        "https://huggingface.co/spaces/MaxReimann/Whitebox-Style-Transfer-Editing\n",
        "\n",
        "# 老照片修復\n",
        "https://huggingface.co/spaces/sczhou/CodeFormer\n",
        "\n",
        "# 替換照片中物件\n",
        "https://stablediffusion.fr/inpainting\n",
        "\n",
        "# 文字轉圖像\n",
        "https://huggingface.co/spaces/stabilityai/stable-diffusion\n",
        "\n",
        "# 草圖自動上色\n",
        "https://petalica.com/index_en.html"
      ]
    }
  ]
}