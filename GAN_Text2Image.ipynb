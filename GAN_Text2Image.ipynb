{
  "nbformat": 4,
  "nbformat_minor": 0,
  "metadata": {
    "colab": {
      "provenance": [],
      "authorship_tag": "ABX9TyMI554g0QZIckj25oeZFSqG",
      "include_colab_link": true
    },
    "kernelspec": {
      "name": "python3",
      "display_name": "Python 3"
    },
    "language_info": {
      "name": "python"
    }
  },
  "cells": [
    {
      "cell_type": "markdown",
      "metadata": {
        "id": "view-in-github",
        "colab_type": "text"
      },
      "source": [
        "<a href=\"https://colab.research.google.com/github/chris20834/AI-Summer-Camp/blob/main/GAN_Text2Image.ipynb\" target=\"_parent\"><img src=\"https://colab.research.google.com/assets/colab-badge.svg\" alt=\"Open In Colab\"/></a>"
      ]
    },
    {
      "cell_type": "code",
      "source": [
        "# 從 diffusers 函式庫匯入 StableDiffusionPipeline\n",
        "from diffusers import StableDiffusionPipeline\n",
        "# 從 torch 函式庫匯入 torch\n",
        "import torch"
      ],
      "metadata": {
        "id": "DcD2AHFCbGgF"
      },
      "execution_count": null,
      "outputs": []
    },
    {
      "cell_type": "code",
      "source": [
        "# 檢查是否有可用的 CUDA (GPU)，如果有的話使用 CUDA，否則使用 CPU\n",
        "device = \"cuda\" if torch.cuda.is_available() else \"cpu\"\n",
        "print(f\"Using device: {device}\")\n",
        "\n",
        "# 載入預訓練的 Stable Diffusion 模型並移動到指定的設備 (CPU/GPU)\n",
        "pipe = StableDiffusionPipeline.from_pretrained(\"IDEA-CCNL/Taiyi-Stable-Diffusion-1B-Chinese-v0.1\").to(device)"
      ],
      "metadata": {
        "id": "tYXDCQaobUwu"
      },
      "execution_count": null,
      "outputs": []
    },
    {
      "cell_type": "code",
      "source": [
        "# 定義用於生成圖像的文字提示 (prompt)\n",
        "prompt = \"懸浮在雲海中的未來城市，日落時分，奇幻風格\"\n",
        "\n",
        "# 使用模型生成圖像，並取出第一張圖像\n",
        "image = pipe(prompt).images[0]\n",
        "\n",
        "# 為了直接在 Colab 中顯示圖像，從 IPython.display 匯入 display 函式\n",
        "from IPython.display import display\n",
        "\n",
        "# 顯示生成的圖像\n",
        "display(image)"
      ],
      "metadata": {
        "id": "tD8X39VXbUrU"
      },
      "execution_count": null,
      "outputs": []
    }
  ]
}